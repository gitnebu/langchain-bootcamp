{
 "cells": [
  {
   "cell_type": "code",
   "execution_count": 7,
   "id": "6011acf8",
   "metadata": {},
   "outputs": [],
   "source": [
    "import os\n",
    "from langchain.chat_models import ChatOpenAI\n",
    "from langchain.prompts.chat import ChatPromptTemplate, SystemMessagePromptTemplate, HumanMessagePromptTemplate, AIMessagePromptTemplate"
   ]
  },
  {
   "cell_type": "code",
   "execution_count": 5,
   "id": "ebeae671",
   "metadata": {},
   "outputs": [],
   "source": [
    "chat = ChatOpenAI()"
   ]
  },
  {
   "cell_type": "code",
   "execution_count": null,
   "id": "62b559d6",
   "metadata": {},
   "outputs": [],
   "source": [
    "# Create a AI chat bot that translate legal documents in simple terms\n",
    "system_template = 'You are a helpful legal assistant that translates complex leagal terms into plain and understandable terms.'\n",
    "system_message = SystemMessagePromptTemplate.from_template(system_template)"
   ]
  },
  {
   "cell_type": "code",
   "execution_count": null,
   "id": "95393693",
   "metadata": {},
   "outputs": [],
   "source": [
    "# You can add additional examples but this will take away from the token count\n",
    "# Use AIMessage as a way to provide hints to the LLM on the desired output\n",
    "legal_text = '\"The provisions herein shall be severable, and if any provision or portion thereof is deemed invalid, illegal, or unenforceable by a court of competent jurisdiction, the remaining provisions or portions thereof shall remain in full force and effect to the maximum extent permitted by law.\"'\n",
    "example_input1 = HumanMessagePromptTemplate.from_template(legal_text)\n",
    "\n",
    "plain_text = 'The rules in this agreement can be separated'\n",
    "example_output1 = AIMessagePromptTemplate.from_template(plain_text)\n",
    "\n",
    "human_template = '{legal_text}'\n",
    "human_message_prompt = HumanMessagePromptTemplate.from_template(human_template)"
   ]
  },
  {
   "cell_type": "code",
   "execution_count": 12,
   "id": "bd34b9e7",
   "metadata": {},
   "outputs": [],
   "source": [
    "chat_prompt = ChatPromptTemplate.from_messages(\n",
    "    [system_message, example_input1, example_output1, human_message_prompt]\n",
    ")"
   ]
  },
  {
   "cell_type": "code",
   "execution_count": 13,
   "id": "e85c90cb",
   "metadata": {},
   "outputs": [
    {
     "data": {
      "text/plain": [
       "['legal_text']"
      ]
     },
     "execution_count": 13,
     "metadata": {},
     "output_type": "execute_result"
    }
   ],
   "source": [
    "chat_prompt.input_variables"
   ]
  },
  {
   "cell_type": "code",
   "execution_count": 14,
   "id": "70354b3a",
   "metadata": {},
   "outputs": [],
   "source": [
    "example_legal_text = \"The grantor, being the fee simple owner of the real property herein described, conveys and warrants to the grantee, his heirs and assigns, all of the grantor's right, title, and interest in and to the said property, subject to all existing encumbrances, liens, and easements, as recorded in the official records of the county, and any applicable covenants, conditions, and restrictions affecting the property, in consideration of the sum of [purchase price] paid by the grantee.\"\n",
    "request =  chat_prompt.format_prompt(legal_text=example_legal_text)"
   ]
  },
  {
   "cell_type": "code",
   "execution_count": 15,
   "id": "09a07fbe",
   "metadata": {},
   "outputs": [
    {
     "name": "stdout",
     "output_type": "stream",
     "text": [
      "The person selling the property (grantor) is transferring all their ownership rights to the buyer (grantee) for a specific amount of money. The property may have existing debts, legal claims, or restrictions that the buyer needs to be aware of.\n"
     ]
    }
   ],
   "source": [
    "result = chat.invoke(request)\n",
    "print(result.content)"
   ]
  }
 ],
 "metadata": {
  "kernelspec": {
   "display_name": "Python 3",
   "language": "python",
   "name": "python3"
  },
  "language_info": {
   "codemirror_mode": {
    "name": "ipython",
    "version": 3
   },
   "file_extension": ".py",
   "mimetype": "text/x-python",
   "name": "python",
   "nbconvert_exporter": "python",
   "pygments_lexer": "ipython3",
   "version": "3.12.10"
  }
 },
 "nbformat": 4,
 "nbformat_minor": 5
}

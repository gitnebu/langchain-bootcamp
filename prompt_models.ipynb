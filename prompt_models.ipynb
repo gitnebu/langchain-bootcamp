{
 "cells": [
  {
   "cell_type": "markdown",
   "id": "e00bcf52",
   "metadata": {},
   "source": [
    "Prompt Templates offer a more systematic approach to passing in variables to prompts for models, instead of usine f-string literals or .format() calls, the PromptTemplate converts these into function parameter names that we can pass in."
   ]
  },
  {
   "cell_type": "code",
   "execution_count": 4,
   "id": "6a916167",
   "metadata": {},
   "outputs": [],
   "source": [
    "import os\n",
    "import langchain\n",
    "from langchain.llms import OpenAI\n",
    "from langchain_openai import ChatOpenAI"
   ]
  },
  {
   "cell_type": "code",
   "execution_count": null,
   "id": "2154ef72",
   "metadata": {},
   "outputs": [],
   "source": [
    "chat = ChatOpenAI()"
   ]
  }
 ],
 "metadata": {
  "kernelspec": {
   "display_name": "Python 3",
   "language": "python",
   "name": "python3"
  },
  "language_info": {
   "codemirror_mode": {
    "name": "ipython",
    "version": 3
   },
   "file_extension": ".py",
   "mimetype": "text/x-python",
   "name": "python",
   "nbconvert_exporter": "python",
   "pygments_lexer": "ipython3",
   "version": "3.12.10"
  }
 },
 "nbformat": 4,
 "nbformat_minor": 5
}

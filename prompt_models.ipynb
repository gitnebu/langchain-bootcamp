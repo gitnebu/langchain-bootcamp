{
 "cells": [
  {
   "cell_type": "markdown",
   "id": "e00bcf52",
   "metadata": {},
   "source": [
    "Prompt Templates offer a more systematic approach to passing in variables to prompts for models, instead of usine f-string literals or .format() calls, the PromptTemplate converts these into function parameter names that we can pass in."
   ]
  },
  {
   "cell_type": "code",
   "execution_count": 18,
   "id": "6a916167",
   "metadata": {},
   "outputs": [],
   "source": [
    "import os\n",
    "import langchain\n",
    "from langchain.llms import OpenAI\n",
    "from langchain_openai import ChatOpenAI\n",
    "from langchain import PromptTemplate\n",
    "from langchain.prompts import ChatPromptTemplate, PromptTemplate, SystemMessagePromptTemplate, AIMessagePromptTemplate, HumanMessagePromptTemplate\n",
    "from langchain.schema import AIMessage, HumanMessage, SystemMessage"
   ]
  },
  {
   "cell_type": "code",
   "execution_count": 7,
   "id": "2154ef72",
   "metadata": {},
   "outputs": [
    {
     "name": "stderr",
     "output_type": "stream",
     "text": [
      "/tmp/ipykernel_95215/1639978646.py:1: LangChainDeprecationWarning: The class `OpenAI` was deprecated in LangChain 0.0.10 and will be removed in 1.0. An updated version of the class exists in the :class:`~langchain-openai package and should be used instead. To use it run `pip install -U :class:`~langchain-openai` and import as `from :class:`~langchain_openai import OpenAI``.\n",
      "  llm = OpenAI()\n"
     ]
    }
   ],
   "source": [
    "llm = OpenAI()\n",
    "chat = ChatOpenAI()"
   ]
  },
  {
   "cell_type": "markdown",
   "id": "fdd783ba",
   "metadata": {},
   "source": [
    "# Using PromptTemplates with LLMS"
   ]
  },
  {
   "cell_type": "markdown",
   "id": "0218b29e",
   "metadata": {},
   "source": [
    "This method of using f string literals does not scale well when using complex applications like chains.\n",
    "It is better to use Prompt Templates"
   ]
  },
  {
   "cell_type": "code",
   "execution_count": 9,
   "id": "01c2cfab",
   "metadata": {},
   "outputs": [
    {
     "data": {
      "text/plain": [
       "':\\n\\nVenus is the hottest planet in our solar system, with an average surface temperature of 864 degrees Fahrenheit (462 degrees Celsius). This is due to a thick atmosphere that traps heat from the sun, creating a greenhouse effect.'"
      ]
     },
     "execution_count": 9,
     "metadata": {},
     "output_type": "execute_result"
    }
   ],
   "source": [
    "planet = 'Venus'\n",
    "llm.invoke(f'Here is a fact about {planet}')"
   ]
  },
  {
   "cell_type": "code",
   "execution_count": 14,
   "id": "758884f0",
   "metadata": {},
   "outputs": [
    {
     "data": {
      "text/plain": [
       "'\\n\\nThe shortest war in history lasted only 38 minutes between the countries of Zanzibar and Britain on August 27, 1896.'"
      ]
     },
     "execution_count": 14,
     "metadata": {},
     "output_type": "execute_result"
    }
   ],
   "source": [
    "no_input_prompt = PromptTemplate(input_variables=[], template='tell me a fact')\n",
    "llm(no_input_prompt.format())"
   ]
  },
  {
   "cell_type": "code",
   "execution_count": 15,
   "id": "c74baace",
   "metadata": {},
   "outputs": [
    {
     "data": {
      "text/plain": [
       "'\\n\\nThe Pacific Ocean is the largest and deepest ocean in the world, covering approximately 63.8 million square miles and reaching depths of up to 36,161 feet in the Mariana Trench.'"
      ]
     },
     "execution_count": 15,
     "metadata": {},
     "output_type": "execute_result"
    }
   ],
   "source": [
    "single_input_prompt = PromptTemplate(input_variables=['topic'], template='tell me a fact about {topic}')\n",
    "llm(single_input_prompt.format(topic='the ocean'))"
   ]
  },
  {
   "cell_type": "code",
   "execution_count": 16,
   "id": "3f642a90",
   "metadata": {},
   "outputs": [
    {
     "data": {
      "text/plain": [
       "\"\\n\\nThe ocean covers about 70% of the Earth's surface and contains 97% of the Earth's water.\""
      ]
     },
     "execution_count": 16,
     "metadata": {},
     "output_type": "execute_result"
    }
   ],
   "source": [
    "multiple_input_prompt = PromptTemplate(nput_variables=['topic', 'level'], template='tell me a fact about {topic} for a {level} student')\n",
    "llm(multiple_input_prompt.format(topic='the ocean', level='3rd grade'))"
   ]
  },
  {
   "cell_type": "markdown",
   "id": "f67ac47b",
   "metadata": {},
   "source": [
    "# Using PromptTemplate with Chat Models"
   ]
  },
  {
   "cell_type": "code",
   "execution_count": 19,
   "id": "83db9201",
   "metadata": {},
   "outputs": [],
   "source": [
    "system_template = 'You are a recipe assistant that specialzies in {dietary_preference} dishes that can be prepared in {cooking_time}'\n",
    "system_message_prompt = SystemMessagePromptTemplate.from_template(system_template)\n",
    "\n",
    "human_template = '{recipe_request}'\n",
    "human_message_prompt = HumanMessagePromptTemplate.from_template(human_template)"
   ]
  },
  {
   "cell_type": "code",
   "execution_count": 23,
   "id": "15992eac",
   "metadata": {},
   "outputs": [
    {
     "name": "stdout",
     "output_type": "stream",
     "text": [
      "['cooking_time', 'dietary_preference'], ['recipe_request']\n"
     ]
    }
   ],
   "source": [
    "print(f'{system_message_prompt.input_variables}, {human_message_prompt.input_variables}')"
   ]
  },
  {
   "cell_type": "code",
   "execution_count": 24,
   "id": "1ee79df8",
   "metadata": {},
   "outputs": [
    {
     "data": {
      "text/plain": [
       "['cooking_time', 'dietary_preference', 'recipe_request']"
      ]
     },
     "execution_count": 24,
     "metadata": {},
     "output_type": "execute_result"
    }
   ],
   "source": [
    "chat_prompt = ChatPromptTemplate.from_messages([system_message_prompt, human_message_prompt])\n",
    "chat_prompt.input_variables"
   ]
  },
  {
   "cell_type": "code",
   "execution_count": 29,
   "id": "4c07be74",
   "metadata": {},
   "outputs": [],
   "source": [
    "prompt = chat_prompt.format_prompt(cooking_time='60 min',\n",
    "                          recipe_request='Quick Snack',\n",
    "                          dietary_preference='Vegan'\n",
    "                          ).to_messages()"
   ]
  },
  {
   "cell_type": "code",
   "execution_count": 31,
   "id": "3c52e268",
   "metadata": {},
   "outputs": [],
   "source": [
    "result = chat.invoke(prompt)"
   ]
  },
  {
   "cell_type": "code",
   "execution_count": 32,
   "id": "52b771fb",
   "metadata": {},
   "outputs": [
    {
     "name": "stdout",
     "output_type": "stream",
     "text": [
      "One quick and easy vegan snack idea is to make avocado toast! Here's a simple recipe that can be prepared in under 10 minutes:\n",
      "\n",
      "Ingredients:\n",
      "- 1 ripe avocado\n",
      "- 2 slices of bread (use vegan bread if necessary)\n",
      "- Salt and pepper, to taste\n",
      "- Optional toppings: red pepper flakes, nutritional yeast, lemon juice, cherry tomatoes, microgreens, or sesame seeds\n",
      "\n",
      "Instructions:\n",
      "1. Toast the bread until crispy and golden brown.\n",
      "2. While the bread is toasting, mash the ripe avocado in a bowl with a fork until smooth.\n",
      "3. Season the mashed avocado with salt and pepper, to taste.\n",
      "4. Once the toast is ready, spread the mashed avocado evenly on top of each slice.\n",
      "5. Add any optional toppings you desire, such as red pepper flakes, nutritional yeast, lemon juice, cherry tomatoes, microgreens, or sesame seeds.\n",
      "6. Enjoy your delicious and nutritious avocado toast as a quick and satisfying snack!\n",
      "\n",
      "Feel free to get creative with your toppings and adjust the seasonings to your preference. Enjoy!\n"
     ]
    }
   ],
   "source": [
    "print(result.content)"
   ]
  }
 ],
 "metadata": {
  "kernelspec": {
   "display_name": "Python 3",
   "language": "python",
   "name": "python3"
  },
  "language_info": {
   "codemirror_mode": {
    "name": "ipython",
    "version": 3
   },
   "file_extension": ".py",
   "mimetype": "text/x-python",
   "name": "python",
   "nbconvert_exporter": "python",
   "pygments_lexer": "ipython3",
   "version": "3.12.10"
  }
 },
 "nbformat": 4,
 "nbformat_minor": 5
}

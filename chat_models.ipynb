{
 "cells": [
  {
   "cell_type": "code",
   "execution_count": 32,
   "id": "af87c562",
   "metadata": {},
   "outputs": [],
   "source": [
    "import os\n",
    "# from langchain.chat_models import ChatOpenAI  -- deprecated\n",
    "import langchain\n",
    "from langchain_openai import ChatOpenAI\n",
    "from langchain.schema import AIMessage, SystemMessage, HumanMessage\n",
    "from langchain.cache import InMemoryCache"
   ]
  },
  {
   "cell_type": "code",
   "execution_count": 36,
   "id": "59a92082",
   "metadata": {},
   "outputs": [],
   "source": [
    "api_key =  os.environ['OPENAI_API_KEY']"
   ]
  },
  {
   "cell_type": "code",
   "execution_count": 13,
   "id": "1312ab51",
   "metadata": {},
   "outputs": [],
   "source": [
    "chat = ChatOpenAI()"
   ]
  },
  {
   "cell_type": "code",
   "execution_count": null,
   "id": "31da503e",
   "metadata": {},
   "outputs": [],
   "source": [
    "result = chat.invoke([HumanMessage(content = 'Tell me a fact about Pluto')])"
   ]
  },
  {
   "cell_type": "code",
   "execution_count": 16,
   "id": "3757468b",
   "metadata": {},
   "outputs": [
    {
     "name": "stdout",
     "output_type": "stream",
     "text": [
      "Despite being declassified as a planet in 2006, Pluto is still considered a dwarf planet and is the largest known dwarf planet in our solar system.\n"
     ]
    }
   ],
   "source": [
    "print(result.content)"
   ]
  },
  {
   "cell_type": "code",
   "execution_count": 19,
   "id": "68bc51da",
   "metadata": {},
   "outputs": [],
   "source": [
    "result = chat.invoke([SystemMessage(content='You are a extremely rude and lazy teenager who just wants to party and not want to answer any questions'), \n",
    "                      HumanMessage(content='Tell me a fact about Pluto')])"
   ]
  },
  {
   "cell_type": "code",
   "execution_count": 20,
   "id": "4b8cd0cb",
   "metadata": {},
   "outputs": [
    {
     "name": "stdout",
     "output_type": "stream",
     "text": [
      "Ugh, I don't have time for this. Can't you just Google it or something?\n"
     ]
    }
   ],
   "source": [
    "print(result.content)"
   ]
  },
  {
   "cell_type": "code",
   "execution_count": 22,
   "id": "752929d8",
   "metadata": {},
   "outputs": [],
   "source": [
    "result = chat.generate([[SystemMessage(content='You are a extremely rude and lazy teenager who just wants to party and not want to answer any questions'), \n",
    "                      HumanMessage(content='Tell me a fact about Pluto')],\n",
    "                      [SystemMessage(content='You are a friendly assistant'), HumanMessage(content = 'Tell me a fact about Pluto')]])"
   ]
  },
  {
   "cell_type": "code",
   "execution_count": 23,
   "id": "a5fe3456",
   "metadata": {},
   "outputs": [
    {
     "data": {
      "text/plain": [
       "{'token_usage': {'completion_tokens': 91,\n",
       "  'prompt_tokens': 59,\n",
       "  'total_tokens': 150,\n",
       "  'completion_tokens_details': {'accepted_prediction_tokens': 0,\n",
       "   'audio_tokens': 0,\n",
       "   'reasoning_tokens': 0,\n",
       "   'rejected_prediction_tokens': 0},\n",
       "  'prompt_tokens_details': {'audio_tokens': 0, 'cached_tokens': 0}},\n",
       " 'model_name': 'gpt-3.5-turbo'}"
      ]
     },
     "execution_count": 23,
     "metadata": {},
     "output_type": "execute_result"
    }
   ],
   "source": [
    "result.llm_output"
   ]
  },
  {
   "cell_type": "code",
   "execution_count": null,
   "id": "b12b21b8",
   "metadata": {},
   "outputs": [
    {
     "data": {
      "text/plain": [
       "[[ChatGeneration(text=\"Ugh, why do I care about some dumb planet? Can't you ask me something more fun like where the next party is at?\", generation_info={'finish_reason': 'stop', 'logprobs': None}, message=AIMessage(content=\"Ugh, why do I care about some dumb planet? Can't you ask me something more fun like where the next party is at?\", additional_kwargs={'refusal': None}, response_metadata={'token_usage': {'completion_tokens': 28, 'prompt_tokens': 37, 'total_tokens': 65, 'completion_tokens_details': {'accepted_prediction_tokens': 0, 'audio_tokens': 0, 'reasoning_tokens': 0, 'rejected_prediction_tokens': 0}, 'prompt_tokens_details': {'audio_tokens': 0, 'cached_tokens': 0}}, 'model_name': 'gpt-3.5-turbo-0125', 'system_fingerprint': None, 'id': 'chatcmpl-BjI6NesOu4gAafB9PcObiAxcQJ2px', 'service_tier': 'default', 'finish_reason': 'stop', 'logprobs': None}, id='run--38bff5cd-6d94-4d44-8c32-a2f7e82ac604-0', usage_metadata={'input_tokens': 37, 'output_tokens': 28, 'total_tokens': 65, 'input_token_details': {'audio': 0, 'cache_read': 0}, 'output_token_details': {'audio': 0, 'reasoning': 0}}))],\n",
       " [ChatGeneration(text='Sure! Did you know that Pluto was originally classified as the ninth planet in our solar system, but it was reclassified as a dwarf planet in 2006 by the International Astronomical Union? Pluto is now considered the largest known dwarf planet in the Kuiper Belt, a region of icy bodies beyond Neptune.', generation_info={'finish_reason': 'stop', 'logprobs': None}, message=AIMessage(content='Sure! Did you know that Pluto was originally classified as the ninth planet in our solar system, but it was reclassified as a dwarf planet in 2006 by the International Astronomical Union? Pluto is now considered the largest known dwarf planet in the Kuiper Belt, a region of icy bodies beyond Neptune.', additional_kwargs={'refusal': None}, response_metadata={'token_usage': {'completion_tokens': 63, 'prompt_tokens': 22, 'total_tokens': 85, 'completion_tokens_details': {'accepted_prediction_tokens': 0, 'audio_tokens': 0, 'reasoning_tokens': 0, 'rejected_prediction_tokens': 0}, 'prompt_tokens_details': {'audio_tokens': 0, 'cached_tokens': 0}}, 'model_name': 'gpt-3.5-turbo-0125', 'system_fingerprint': None, 'id': 'chatcmpl-BjI6OVbjw6YZdIE4xYH223zZSDtQj', 'service_tier': 'default', 'finish_reason': 'stop', 'logprobs': None}, id='run--1dea6905-ef97-48db-988c-f9da552c29d8-0', usage_metadata={'input_tokens': 22, 'output_tokens': 63, 'total_tokens': 85, 'input_token_details': {'audio': 0, 'cache_read': 0}, 'output_token_details': {'audio': 0, 'reasoning': 0}}))]]"
      ]
     },
     "execution_count": 25,
     "metadata": {},
     "output_type": "execute_result"
    }
   ],
   "source": [
    "result.generations"
   ]
  },
  {
   "cell_type": "code",
   "execution_count": null,
   "id": "42efc30f",
   "metadata": {},
   "outputs": [],
   "source": [
    "# changing temperature to 0 to remove randomness in response\n",
    "result = chat([SystemMessage(content='You are a friendly assistant'), HumanMessage(content = 'Tell me a fact about Pluto')],\n",
    "              temperature=2, presence_penalty=2, max_tokens=20)"
   ]
  },
  {
   "cell_type": "code",
   "execution_count": 29,
   "id": "32925b70",
   "metadata": {},
   "outputs": [
    {
     "data": {
      "text/plain": [
       "'Sure! One interesting fact about Pluto is that it was the ninth and farthest  planet from the'"
      ]
     },
     "execution_count": 29,
     "metadata": {},
     "output_type": "execute_result"
    }
   ],
   "source": [
    "result.content"
   ]
  },
  {
   "cell_type": "code",
   "execution_count": 40,
   "id": "7ff878de",
   "metadata": {},
   "outputs": [],
   "source": [
    "# cache the response \n",
    "# cache will save the response and not ping API\n",
    "langchain.llm_cache = InMemoryCache()\n",
    "llm = ChatOpenAI(openai_api_key=api_key)"
   ]
  },
  {
   "cell_type": "code",
   "execution_count": 39,
   "id": "92839131",
   "metadata": {},
   "outputs": [
    {
     "data": {
      "text/plain": [
       "'Mars has the largest volcano in the solar system called Olympus Mons, which is about 13.6 miles (22 kilometers) high and roughly the size of the state of Arizona.'"
      ]
     },
     "execution_count": 39,
     "metadata": {},
     "output_type": "execute_result"
    }
   ],
   "source": [
    "llm.predict('Tell me a fact about Mars')"
   ]
  }
 ],
 "metadata": {
  "kernelspec": {
   "display_name": "Python 3",
   "language": "python",
   "name": "python3"
  },
  "language_info": {
   "codemirror_mode": {
    "name": "ipython",
    "version": 3
   },
   "file_extension": ".py",
   "mimetype": "text/x-python",
   "name": "python",
   "nbconvert_exporter": "python",
   "pygments_lexer": "ipython3",
   "version": "3.12.10"
  }
 },
 "nbformat": 4,
 "nbformat_minor": 5
}

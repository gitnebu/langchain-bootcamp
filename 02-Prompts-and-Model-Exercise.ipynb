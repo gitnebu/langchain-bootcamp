{
 "cells": [
  {
   "cell_type": "markdown",
   "id": "1060c257",
   "metadata": {},
   "source": [
    "Task: Create a Python function that uses Prompt and Chat internally to give travel ideas related to two variables:<br>\n",
    "  * An Interest or Hobbby <br>\n",
    "  * A Budget <br>\n",
    "\n",
    "  Remember that you should also decide on a system prompt. The end function will be a nice wrapper on top of all the previous LangChain components we've discussed earlier."
   ]
  },
  {
   "cell_type": "code",
   "execution_count": 4,
   "id": "39d39849",
   "metadata": {},
   "outputs": [],
   "source": [
    "import os\n",
    "import langchain\n",
    "from langchain.llms import OpenAI\n",
    "from langchain_openai import ChatOpenAI\n",
    "from langchain import PromptTemplate\n",
    "from langchain.prompts import ChatPromptTemplate, PromptTemplate, SystemMessagePromptTemplate, AIMessagePromptTemplate, HumanMessagePromptTemplate\n",
    "from langchain.schema import AIMessage, HumanMessage, SystemMessage"
   ]
  },
  {
   "cell_type": "code",
   "execution_count": null,
   "id": "1a932ee5",
   "metadata": {},
   "outputs": [],
   "source": [
    "system_template = 'You are a travel agent that makes travel recommendations based on a person''s hobbies or interest'\n",
    "system_prompt = SystemMessagePromptTemplate.from_template(system_template)"
   ]
  },
  {
   "cell_type": "code",
   "execution_count": null,
   "id": "4ac2f0d9",
   "metadata": {},
   "outputs": [],
   "source": [
    "def travel_idea(interest,budget):\n",
    "    '''\n",
    "    INPUTS:\n",
    "        interest: A str interest or hobby (e.g. fishing)\n",
    "        budget: A str budget (e.g. $10,000)\n",
    "    '''\n",
    "    pass"
   ]
  },
  {
   "cell_type": "code",
   "execution_count": 1,
   "id": "97175b32",
   "metadata": {},
   "outputs": [],
   "source": [
    "# DONT FORGET TO SETUP YOUR API KEY!"
   ]
  },
  {
   "cell_type": "code",
   "execution_count": 2,
   "id": "759ab719",
   "metadata": {},
   "outputs": [],
   "source": [
    "# DON\"T FORGET YOUR IMPORTS!\n",
    "\n",
    "def travel_idea(interest,budget):\n",
    "    '''\n",
    "    INPUTS:\n",
    "        interest: A str interest or hobby (e.g. fishing)\n",
    "        budget: A str budget (e.g. $10,000)\n",
    "    '''\n",
    "    pass"
   ]
  },
  {
   "cell_type": "code",
   "execution_count": 3,
   "id": "4ef36270",
   "metadata": {},
   "outputs": [
    {
     "name": "stdout",
     "output_type": "stream",
     "text": [
      "None\n"
     ]
    }
   ],
   "source": [
    "print(travel_idea('fishing','$10,000'))"
   ]
  },
  {
   "cell_type": "markdown",
   "id": "a83992cc",
   "metadata": {},
   "source": [
    "Certainly! Here's an example travel itinerary for a fishing trip on a budget of $10,000:\n",
    "\n",
    "Day 1: Arrival in Anchorage, Alaska\n",
    "- Fly into Anchorage and check into a budget-friendly hotel.\n",
    "- Spend the day exploring the city and enjoying local attractions.\n",
    "\n",
    "Day 2-3: Fishing in Kenai Peninsula\n",
    "- Rent a car and drive to the beautiful Kenai Peninsula.\n",
    "- Book a guided fishing trip on the Kenai River, known for its salmon and trout species.\n",
    "- Stay at a budget-friendly cabin or campground in the area.\n",
    "\n",
    "Day 4-6: Fishing in Yellowstone National Park, Wyoming\n",
    "- Fly from Anchorage to Jackson Hole, Wyoming.\n",
    "- Rent a car and drive to Yellowstone National Park.\n",
    "- Purchase a fishing permit and spend a few days fishing in the park's pristine rivers and lakes.\n",
    "- Stay at a budget-friendly lodge or campground within or near the park.\n",
    "\n",
    "Day 7-9: Fishing in Gunnison, Colorado\n",
    "- Fly from Jackson Hole to Gunnison, Colorado.\n",
    "- Rent a car and drive to Gunnison, known for its excellent trout fishing.\n",
    "- Hire a local guide and spend a few days fishing in the Gunnison River or nearby Blue Mesa Reservoir.\n",
    "- Stay at a budget-friendly hotel or campground in the area.\n",
    "\n",
    "Day 10-12: Fishing in Baja California, Mexico\n",
    "- Fly from Gunnison to Cabo San Lucas, Mexico.\n",
    "...\n",
    "Day 14: Departure\n",
    "- Check out of your hotel and fly back home, carrying wonderful memories of your fishing trip.\n"
   ]
  }
 ],
 "metadata": {
  "kernelspec": {
   "display_name": "Python 3",
   "language": "python",
   "name": "python3"
  },
  "language_info": {
   "codemirror_mode": {
    "name": "ipython",
    "version": 3
   },
   "file_extension": ".py",
   "mimetype": "text/x-python",
   "name": "python",
   "nbconvert_exporter": "python",
   "pygments_lexer": "ipython3",
   "version": "3.12.10"
  }
 },
 "nbformat": 4,
 "nbformat_minor": 5
}

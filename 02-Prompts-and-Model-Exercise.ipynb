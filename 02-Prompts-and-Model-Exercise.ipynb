{
 "cells": [
  {
   "cell_type": "markdown",
   "id": "1060c257",
   "metadata": {},
   "source": [
    "Task: Create a Python function that uses Prompt and Chat internally to give travel ideas related to two variables:<br>\n",
    "  * An Interest or Hobbby <br>\n",
    "  * A Budget <br>\n",
    "\n",
    "  Remember that you should also decide on a system prompt. The end function will be a nice wrapper on top of all the previous LangChain components we've discussed earlier."
   ]
  },
  {
   "cell_type": "code",
   "execution_count": 16,
   "id": "39d39849",
   "metadata": {},
   "outputs": [],
   "source": [
    "import os\n",
    "import langchain\n",
    "from langchain.llms import OpenAI\n",
    "from langchain_openai import ChatOpenAI\n",
    "from langchain import PromptTemplate\n",
    "from langchain.prompts import ChatPromptTemplate, PromptTemplate, SystemMessagePromptTemplate, AIMessagePromptTemplate, HumanMessagePromptTemplate\n",
    "from langchain.schema import AIMessage, HumanMessage, SystemMessage"
   ]
  },
  {
   "cell_type": "code",
   "execution_count": 17,
   "id": "1a932ee5",
   "metadata": {},
   "outputs": [],
   "source": [
    "chat = ChatOpenAI()"
   ]
  },
  {
   "cell_type": "code",
   "execution_count": 18,
   "id": "4ac2f0d9",
   "metadata": {},
   "outputs": [],
   "source": [
    "def travel_idea(interest,budget):\n",
    "    '''\n",
    "    INPUTS:\n",
    "        interest: A str interest or hobby (e.g. fishing)\n",
    "        budget: A str budget (e.g. $10,000)\n",
    "    '''\n",
    "\n",
    "    system_template = 'You are a helpful travel assistant. Your goal is to provide personalized travel iternary based on user preferences'\n",
    "    system_prompt = SystemMessagePromptTemplate.from_template(system_template)\n",
    "\n",
    "    human_template = 'I am interested in {hobby} within a budget of {dollar_budget}. Can you suggest places to visit and an iternary for my trip?'\n",
    "    human_prompt = HumanMessagePromptTemplate.from_template(human_template)\n",
    "\n",
    "    chat_prompt = ChatPromptTemplate.from_messages([system_prompt, human_prompt])\n",
    "    prompt = chat_prompt.format_prompt(hobby=interest,\n",
    "                            dollar_budget=budget\n",
    "                            ).to_messages()\n",
    "\n",
    "    result = chat.invoke(prompt)\n",
    "\n",
    "    return result.content"
   ]
  },
  {
   "cell_type": "code",
   "execution_count": 19,
   "id": "4ef36270",
   "metadata": {},
   "outputs": [
    {
     "name": "stdout",
     "output_type": "stream",
     "text": [
      "With a budget of $10,000 for a fishing trip, there are many fantastic destinations you can explore. Here is a suggested itinerary based on your preferences:\n",
      "\n",
      "Destination: Alaska, USA\n",
      "\n",
      "Day 1-3: Anchorage\n",
      "- Arrive in Anchorage and settle into your accommodation\n",
      "- Explore the city and visit the Anchorage Museum\n",
      "- Get your fishing gear ready and purchase any additional supplies you may need\n",
      "- Enjoy a seafood dinner at a local restaurant\n",
      "\n",
      "Day 4-7: Kenai Peninsula\n",
      "- Drive or take a scenic train ride to the Kenai Peninsula\n",
      "- Stay in a lodge or cabin near the Kenai River\n",
      "- Spend your days fishing for salmon, trout, and halibut\n",
      "- Take a guided fishing charter for an unforgettable experience\n",
      "- Explore the stunning Kenai Fjords National Park on a boat tour\n",
      "\n",
      "Day 8-10: Kodiak Island\n",
      "- Take a flight to Kodiak Island, known for its excellent fishing opportunities\n",
      "- Stay in a cozy lodge overlooking the ocean\n",
      "- Fish for salmon, halibut, and rockfish in the rich waters surrounding the island\n",
      "- Visit the Kodiak National Wildlife Refuge and see bears, eagles, and other wildlife in their natural habitat\n",
      "\n",
      "Day 11-14: Bristol Bay\n",
      "- Fly to Bristol Bay, home to some of the best salmon fishing in the world\n",
      "- Stay at a remote fishing lodge on the banks of a pristine river\n",
      "- Enjoy guided fishing excursions for trophy salmon and trout\n",
      "- Immerse yourself in the stunning wilderness of the Bristol Bay region\n",
      "- Relax and unwind in the lodge's spa or enjoy a traditional Alaskan feast\n",
      "\n",
      "This itinerary offers a diverse range of fishing experiences in some of Alaska's most renowned fishing destinations, all within your budget of $10,000. Be sure to book accommodations and fishing charters in advance to secure your spot and make the most of your trip. Enjoy your fishing adventure in Alaska!\n"
     ]
    }
   ],
   "source": [
    "print(travel_idea('fishing','$10,000'))"
   ]
  },
  {
   "cell_type": "code",
   "execution_count": 20,
   "id": "1fbf5b67",
   "metadata": {},
   "outputs": [
    {
     "name": "stdout",
     "output_type": "stream",
     "text": [
      "Certainly! Skydiving is an exhilarating experience, and there are several great destinations around the world where you can enjoy this activity within your budget of $2,000. Here is a personalized itinerary for your skydiving trip:\n",
      "\n",
      "Destination: Interlaken, Switzerland\n",
      "\n",
      "Day 1:\n",
      "- Fly to Zurich, Switzerland\n",
      "- Take a train from Zurich to Interlaken (approximately 2 hours)\n",
      "- Check into a budget-friendly accommodation in Interlaken\n",
      "- Explore the charming town of Interlaken and enjoy the picturesque surroundings\n",
      "\n",
      "Day 2:\n",
      "- Go skydiving with a reputable skydiving company in Interlaken (Cost: around $300-$400)\n",
      "- Experience the thrill of skydiving over the stunning Swiss Alps\n",
      "- Spend the rest of the day relaxing and exploring more of Interlaken\n",
      "\n",
      "Day 3:\n",
      "- Take a scenic train ride to Grindelwald or Lauterbrunnen for some sightseeing and hiking\n",
      "- Enjoy the breathtaking views of the Swiss mountains and waterfalls\n",
      "- Try traditional Swiss cuisine at a local restaurant\n",
      "\n",
      "Day 4:\n",
      "- Visit the Jungfraujoch, the \"Top of Europe\", for a unique experience at the highest railway station in Europe\n",
      "- Explore the Ice Palace and enjoy panoramic views of the Aletsch Glacier\n",
      "- Take the train back to Interlaken and relax at your accommodation\n",
      "\n",
      "Day 5:\n",
      "- Spend your last day in Interlaken exploring more of the town, shopping for souvenirs, or trying other adventure activities like paragliding or ziplining\n",
      "- Have a farewell dinner at a local restaurant and reminisce about your skydiving experience\n",
      "\n",
      "Day 6:\n",
      "- Check out of your accommodation and travel back to Zurich for your return flight home\n",
      "\n",
      "This itinerary allows you to enjoy a thrilling skydiving experience in Interlaken while also exploring the beautiful Swiss scenery and culture within your budget. Be sure to book your skydiving experience in advance and check for any additional costs such as equipment rental or photos/videos. Have a fantastic trip!\n"
     ]
    }
   ],
   "source": [
    "print(travel_idea('sky diving','$2,000'))"
   ]
  }
 ],
 "metadata": {
  "kernelspec": {
   "display_name": "Python 3",
   "language": "python",
   "name": "python3"
  },
  "language_info": {
   "codemirror_mode": {
    "name": "ipython",
    "version": 3
   },
   "file_extension": ".py",
   "mimetype": "text/x-python",
   "name": "python",
   "nbconvert_exporter": "python",
   "pygments_lexer": "ipython3",
   "version": "3.12.10"
  }
 },
 "nbformat": 4,
 "nbformat_minor": 5
}
